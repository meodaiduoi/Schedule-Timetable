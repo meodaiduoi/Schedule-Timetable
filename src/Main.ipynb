{
 "cells": [
  {
   "cell_type": "code",
   "execution_count": 1,
   "metadata": {},
   "outputs": [],
   "source": [
    "import pandas as pd\n",
    "from FindSolution import FindSolution\n",
    "from Data import Data"
   ]
  },
  {
   "cell_type": "code",
   "execution_count": 2,
   "metadata": {},
   "outputs": [],
   "source": [
    "data = Data('./data/Room.csv', './data/MeetingTime.csv',\n",
    "        './data/Instructor.csv', './data/Department.csv',\n",
    "        './data/Course.csv')\n",
    "\n",
    "# data = Data('./data2/Room.csv', './data2/MeetingTime.csv',\n",
    "#         './data2/Instructor.csv', './data2/Department.csv',\n",
    "#         './data2/Course.csv')"
   ]
  },
  {
   "cell_type": "code",
   "execution_count": 3,
   "metadata": {},
   "outputs": [
    {
     "data": {
      "text/plain": [
       "1"
      ]
     },
     "execution_count": 3,
     "metadata": {},
     "output_type": "execute_result"
    }
   ],
   "source": [
    "data.getMeetingTime()[1].getId()"
   ]
  },
  {
   "cell_type": "code",
   "execution_count": 4,
   "metadata": {},
   "outputs": [
    {
     "name": "stdout",
     "output_type": "stream",
     "text": [
      "Generation: 1 Fitness: 0.3333333333333333\n",
      "Generation: 2 Fitness: 0.3333333333333333\n",
      "Generation: 3 Fitness: 0.3333333333333333\n",
      "Generation: 4 Fitness: 0.3333333333333333\n",
      "Generation: 5 Fitness: 0.5\n",
      "Generation: 6 Fitness: 0.5\n",
      "Generation: 7 Fitness: 1.0\n"
     ]
    }
   ],
   "source": [
    "POPULATION_SIZE = 9\n",
    "NUMBER_OF_ELITE_SCHEDULES = 1\n",
    "TOURNAMENT_SELECTION_SIZE = 3\n",
    "MUTATION_RATE = 0.1\n",
    "\n",
    "find_solution = FindSolution(data,\n",
    "                            POPULATION_SIZE, NUMBER_OF_ELITE_SCHEDULES,\n",
    "                            TOURNAMENT_SELECTION_SIZE, MUTATION_RATE)\n",
    "\n",
    "timetable = find_solution.getTimeTable()\n",
    "generation = find_solution.getGeneration()"
   ]
  },
  {
   "cell_type": "code",
   "execution_count": 7,
   "metadata": {},
   "outputs": [
    {
     "name": "stdout",
     "output_type": "stream",
     "text": [
      "MATH, Caculus 2, H1.101, Thien Ha, 1-3, FRI\n",
      "MATH, English 1, H3.302, Ngan Giang, 10-12, FRI\n",
      "LANGUAGE, English 2, H2.101, Thu Thuy, 1-3, TUE\n",
      "LANGUAGE, Chinese, H2.201, Thu Thuy, 13-15, THU\n",
      "LANGUAGE, C++, H3.301, Hanh Van, 13-15, THU\n",
      "IT, Web, H1.201, Hanh Van, 1-3, FRI\n",
      "IT, Python, H1.102, Thao Nguyen, 13-15, WED\n",
      "IT, Java, H1.201, Thao Nguyen, 10-12, WED\n",
      "IT, Mordem Art 1, H1.201, Pham Trung, 4-6, FRI\n",
      "ART, Mordem Art 2, H3.300, Thanh Tu, 1-3, FRI\n",
      "ART, Practical Anotomy, H3.100, Hao Nam, 10-12, TUE\n",
      "ART, Table Tennis, H2.201, So Khanh, 7-9, TUE\n",
      "PE, Practical Anotomy, H3.300, Hao Nam, 4-6, THU\n",
      "PE, Table Tennis, H2.102, Hao Nam, 1-3, FRI\n",
      "PE, Badminton, H2.103, So Khanh, 10-12, SAT\n"
     ]
    }
   ],
   "source": [
    "for i in range(len(timetable)):\n",
    "    print(timetable[i].__str__())"
   ]
  },
  {
   "cell_type": "code",
   "execution_count": null,
   "metadata": {},
   "outputs": [],
   "source": [
    "timetable.getMeetingTime"
   ]
  },
  {
   "cell_type": "code",
   "execution_count": null,
   "metadata": {},
   "outputs": [],
   "source": [
    "department = []\n",
    "course = []\n",
    "instructor = []\n",
    "room = []\n",
    "day = []\n",
    "shift = []\n",
    "\n",
    "for i in range(len(timetable)):\n",
    "    timetable_data\n",
    "\n",
    "\n",
    "timetable_data = {'Department': [],\n",
    "                  'Course': [],\n",
    "                  'Instructor': [],\n",
    "                  'Room': [],\n",
    "                  'Day': [],\n",
    "                  'Shift': []}\n",
    "\n",
    "timetable_df = pd.DataFrame(data=timetable_data)\n",
    "timetable_df.to_csv('./export/Timetable.csv', sep=',', encoding='utf-8')\n",
    "timetable_df"
   ]
  },
  {
   "cell_type": "code",
   "execution_count": null,
   "metadata": {},
   "outputs": [],
   "source": [
    "str(self._dept.getName()) + ', ' + str(self._course.getId()) + ', ' + \\\n",
    "                str(self._room.getId()) + ', ' + str(self._instructor.getName()) + ', ' + \\\n",
    "                str(self._meeting_time.getTime().getDay() + ', ' + \\\n",
    "                str(self._meeting_time.getTime().getTime()))"
   ]
  }
 ],
 "metadata": {
  "interpreter": {
   "hash": "23ff1fb2e7d1354e2fc9f71eb6a34944b3897406745ea80621d3be47be77c881"
  },
  "kernelspec": {
   "display_name": "Python 3.9.7 64-bit (system)",
   "language": "python",
   "name": "python3"
  },
  "language_info": {
   "codemirror_mode": {
    "name": "ipython",
    "version": 3
   },
   "file_extension": ".py",
   "mimetype": "text/x-python",
   "name": "python",
   "nbconvert_exporter": "python",
   "pygments_lexer": "ipython3",
   "version": "3.9.7"
  },
  "orig_nbformat": 4
 },
 "nbformat": 4,
 "nbformat_minor": 2
}
